{
  "nbformat": 4,
  "nbformat_minor": 0,
  "metadata": {
    "colab": {
      "name": "test.ipynb",
      "provenance": []
    },
    "kernelspec": {
      "name": "python3",
      "display_name": "Python 3"
    },
    "language_info": {
      "name": "python"
    }
  },
  "cells": [
    {
      "cell_type": "code",
      "metadata": {
        "id": "rGwZa1kuBWyN"
      },
      "source": [
        "import numpy as np\n",
        "import random\n",
        "\n",
        "from connect4 import ConnectFourEnv"
      ],
      "execution_count": 1,
      "outputs": []
    },
    {
      "cell_type": "code",
      "metadata": {
        "id": "DLRrfwaN6rUb"
      },
      "source": [
        "def seed(seed):\n",
        "    random.seed(seed)\n",
        "    np.random.seed(seed)"
      ],
      "execution_count": 2,
      "outputs": []
    },
    {
      "cell_type": "code",
      "metadata": {
        "id": "QQ1Q4sMoBYMa",
        "colab": {
          "base_uri": "https://localhost:8080/"
        },
        "outputId": "fe23ba14-7323-459b-c48c-d9f091424e3a"
      },
      "source": [
        "seed(1234)\n",
        "env = ConnectFourEnv()\n",
        "\t\n",
        "env.reset()\n",
        "\n",
        "print(env.display_board())\n",
        "\n",
        "temp_board = np.zeros((6,7))\n",
        "temp_board[0,5] = 1\n",
        "temp_board[1,5] = 1\n",
        "temp_board[2,5] = 1\n",
        "\n",
        "\n",
        "\n",
        "env.load_game_board(temp_board)\n",
        "\n",
        "print(env.display_board())\n",
        "\n",
        "next_state, reward, done, _  = env.step(5,1)\n",
        "\n",
        "print(reward)\n",
        "print(env.display_board())\n"
      ],
      "execution_count": 4,
      "outputs": [
        {
          "output_type": "stream",
          "text": [
            "[[0. 0. 0. 0. 0. 0. 0.]\n",
            " [0. 0. 0. 0. 0. 0. 0.]\n",
            " [0. 0. 0. 0. 0. 0. 0.]\n",
            " [0. 0. 0. 0. 0. 0. 0.]\n",
            " [0. 0. 0. 0. 0. 0. 0.]\n",
            " [0. 0. 0. 0. 0. 0. 0.]]\n",
            "[[0. 0. 0. 0. 0. 0. 0.]\n",
            " [0. 0. 0. 0. 0. 0. 0.]\n",
            " [0. 0. 0. 0. 0. 0. 0.]\n",
            " [0. 1. 0. 0. 0. 0. 0.]\n",
            " [0. 1. 0. 0. 0. 0. 0.]\n",
            " [0. 1. 0. 0. 0. 0. 0.]]\n",
            "1\n",
            "[[0. 0. 0. 0. 0. 0. 0.]\n",
            " [0. 0. 0. 0. 0. 0. 0.]\n",
            " [0. 1. 0. 0. 0. 0. 0.]\n",
            " [0. 1. 0. 0. 0. 0. 0.]\n",
            " [0. 1. 0. 0. 0. 0. 0.]\n",
            " [0. 1. 0. 0. 0. 0. 0.]]\n",
            "done\n"
          ],
          "name": "stdout"
        }
      ]
    }
  ]
}