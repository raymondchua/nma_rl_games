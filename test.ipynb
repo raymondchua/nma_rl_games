{
  "nbformat": 4,
  "nbformat_minor": 0,
  "metadata": {
    "colab": {
      "name": "test.ipynb",
      "provenance": []
    },
    "kernelspec": {
      "name": "python3",
      "display_name": "Python 3"
    },
    "language_info": {
      "name": "python"
    }
  },
  "cells": [
    {
      "cell_type": "code",
      "metadata": {
        "id": "rGwZa1kuBWyN"
      },
      "source": [
        "import numpy as np\n",
        "import random\n",
        "\n",
        "from connect4 import ConnectFourEnv"
      ],
      "execution_count": null,
      "outputs": []
    },
    {
      "cell_type": "code",
      "metadata": {
        "id": "QQ1Q4sMoBYMa"
      },
      "source": [
        "seed(1234)\n",
        "env = ConnectFourEnv()\n",
        "\t\n",
        "env.reset()\n",
        "\n",
        "print('done')"
      ],
      "execution_count": null,
      "outputs": []
    }
  ]
}